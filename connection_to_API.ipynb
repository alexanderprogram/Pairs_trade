{
 "cells": [
  {
   "cell_type": "code",
   "execution_count": null,
   "id": "a45a625a-b869-4e91-8c36-7cee811cc589",
   "metadata": {},
   "outputs": [],
   "source": [
    "import requests\n",
    "\n",
    "# Replace with your real API keys\n",
    "API_KEY = \"your_api_key\"\n",
    "SECRET_KEY = \"your_secret_key\"\n",
    "BASE_URL = \"https://api.binance.com\"\n",
    "\n",
    "def get_price(symbol):\n",
    "    \"\"\"Fetch market price for a given asset pair.\"\"\"\n",
    "    response = requests.get(f\"{BASE_URL}/api/v3/ticker/price\", params={\"symbol\": symbol})\n",
    "    return float(response.json()[\"price\"])\n",
    "\n",
    "# Test API connection\n",
    "btc_price = get_price(\"BTCUSDT\")\n",
    "eth_price = get_price(\"ETHUSDT\")\n",
    "print(f\"BTC Price: ${btc_price}, ETH Price: ${eth_price}\")\n"
   ]
  }
 ],
 "metadata": {
  "kernelspec": {
   "display_name": "Python 3 (ipykernel)",
   "language": "python",
   "name": "python3"
  },
  "language_info": {
   "codemirror_mode": {
    "name": "ipython",
    "version": 3
   },
   "file_extension": ".py",
   "mimetype": "text/x-python",
   "name": "python",
   "nbconvert_exporter": "python",
   "pygments_lexer": "ipython3",
   "version": "3.10.12"
  }
 },
 "nbformat": 4,
 "nbformat_minor": 5
}
