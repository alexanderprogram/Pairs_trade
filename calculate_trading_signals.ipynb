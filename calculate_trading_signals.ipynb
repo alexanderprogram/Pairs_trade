{
 "cells": [
  {
   "cell_type": "code",
   "execution_count": null,
   "id": "8168560a-05f7-4926-a776-f7623bb71a2f",
   "metadata": {},
   "outputs": [],
   "source": [
    "import numpy as np\n",
    "\n",
    "def calculate_spread(asset1_price, asset2_price):\n",
    "    return asset1_price - asset2_price\n",
    "\n",
    "def trading_signal(spread, mean_spread=100, threshold=50):\n",
    "    \"\"\"Generate buy/sell signals based on spread deviation.\"\"\"\n",
    "    if spread > mean_spread + threshold:\n",
    "        return \"Sell Asset 1, Buy Asset 2\"\n",
    "    elif spread < mean_spread - threshold:\n",
    "        return \"Buy Asset 1, Sell Asset 2\"\n",
    "    else:\n",
    "        return \"Hold\"\n",
    "\n",
    "spread = calculate_spread(btc_price, eth_price)\n",
    "signal = trading_signal(spread)\n",
    "print(f\"Spread: {spread}, Signal: {signal}\")\n"
   ]
  }
 ],
 "metadata": {
  "kernelspec": {
   "display_name": "Python 3 (ipykernel)",
   "language": "python",
   "name": "python3"
  },
  "language_info": {
   "codemirror_mode": {
    "name": "ipython",
    "version": 3
   },
   "file_extension": ".py",
   "mimetype": "text/x-python",
   "name": "python",
   "nbconvert_exporter": "python",
   "pygments_lexer": "ipython3",
   "version": "3.10.12"
  }
 },
 "nbformat": 4,
 "nbformat_minor": 5
}
