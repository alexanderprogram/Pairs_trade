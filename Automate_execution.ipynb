{
 "cells": [
  {
   "cell_type": "code",
   "execution_count": null,
   "id": "cb97b595-dcec-48fd-bff3-cba8fecb9712",
   "metadata": {},
   "outputs": [],
   "source": [
    "import time\n",
    "\n",
    "while True:\n",
    "    btc_price = get_price(\"BTCUSDT\")\n",
    "    eth_price = get_price(\"ETHUSDT\")\n",
    "    spread = calculate_spread(btc_price, eth_price)\n",
    "    signal = trading_signal(spread)\n",
    "    \n",
    "    print(f\"Spread: {spread}, Signal: {signal}\")\n",
    "    \n",
    "    if signal == \"Buy Asset 1, Sell Asset 2\":\n",
    "        place_order(\"BTCUSDT\", \"BUY\", 0.001, btc_price)\n",
    "        place_order(\"ETHUSDT\", \"SELL\", 0.001, eth_price)\n",
    "    \n",
    "    elif signal == \"Sell Asset 1, Buy Asset 2\":\n",
    "        place_order(\"BTCUSDT\", \"SELL\", 0.001, btc_price)\n",
    "        place_order(\"ETHUSDT\", \"BUY\", 0.001, eth_price)\n",
    "    \n",
    "    time.sleep(60)  # Wait 60 seconds before running again\n"
   ]
  },
  {
   "cell_type": "code",
   "execution_count": null,
   "id": "36f963ab-d47d-4b88-a684-1dcf3484d0a9",
   "metadata": {},
   "outputs": [],
   "source": [
    "import time\n",
    "\n",
    "while True:\n",
    "    btc_price = get_price(\"BTCUSDT\")\n",
    "    eth_price = get_price(\"ETHUSDT\")\n",
    "    spread = calculate_spread(btc_price, eth_price)\n",
    "    signal = trading_signal(spread)\n",
    "    \n",
    "    print(f\"Spread: {spread}, Signal: {signal}\")\n",
    "    \n",
    "    if signal == \"Buy Asset 1, Sell Asset 2\":\n",
    "        place_order(\"BTCUSDT\", \"BUY\", 0.001, btc_price)\n",
    "        place_order(\"ETHUSDT\", \"SELL\", 0.001, eth_price)\n",
    "    \n",
    "    elif signal == \"Sell Asset 1, Buy Asset 2\":\n",
    "        place_order(\"BTCUSDT\", \"SELL\", 0.001, btc_price)\n",
    "        place_order(\"ETHUSDT\", \"BUY\", 0.001, eth_price)\n",
    "    \n",
    "    time.sleep(60)  # Wait 60 seconds before running again\n"
   ]
  }
 ],
 "metadata": {
  "kernelspec": {
   "display_name": "Python 3 (ipykernel)",
   "language": "python",
   "name": "python3"
  },
  "language_info": {
   "codemirror_mode": {
    "name": "ipython",
    "version": 3
   },
   "file_extension": ".py",
   "mimetype": "text/x-python",
   "name": "python",
   "nbconvert_exporter": "python",
   "pygments_lexer": "ipython3",
   "version": "3.10.12"
  }
 },
 "nbformat": 4,
 "nbformat_minor": 5
}
