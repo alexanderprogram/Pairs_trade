{
 "cells": [
  {
   "cell_type": "code",
   "execution_count": null,
   "id": "8984ff5a-c9ec-4fb0-b3f2-c9baa7f224b4",
   "metadata": {},
   "outputs": [],
   "source": [
    "import hmac\n",
    "import hashlib\n",
    "import time\n",
    "\n",
    "def place_order(symbol, side, quantity, price):\n",
    "    \"\"\"Place an order via Binance API.\"\"\"\n",
    "    endpoint = \"/api/v3/order\"\n",
    "    params = {\n",
    "        \"symbol\": symbol,\n",
    "        \"side\": side,\n",
    "        \"type\": \"LIMIT\",\n",
    "        \"quantity\": quantity,\n",
    "        \"price\": price,\n",
    "        \"timeInForce\": \"GTC\",\n",
    "        \"timestamp\": int(time.time() * 1000),\n",
    "    }\n",
    "    \n",
    "    query_string = \"&\".join([f\"{key}={value}\" for key, value in params.items()])\n",
    "    signature = hmac.new(SECRET_KEY.encode(), query_string.encode(), hashlib.sha256).hexdigest()\n",
    "    params[\"signature\"] = signature\n",
    "\n",
    "    headers = {\"X-MBX-APIKEY\": API_KEY}\n",
    "    response = requests.post(BASE_URL + endpoint, headers=headers, params=params)\n",
    "    \n",
    "    return response.json()\n",
    "\n",
    "# Example trade execution\n",
    "if signal == \"Buy Asset 1, Sell Asset 2\":\n",
    "    place_order(\"BTCUSDT\", \"BUY\", 0.001, btc_price)\n",
    "    place_order(\"ETHUSDT\", \"SELL\", 0.001, eth_price)\n",
    "\n",
    "elif signal == \"Sell Asset 1, Buy Asset 2\":\n",
    "    place_order(\"BTCUSDT\", \"SELL\", 0.001, btc_price)\n",
    "    place_order(\"ETHUSDT\", \"BUY\", 0.001, eth_price)\n"
   ]
  }
 ],
 "metadata": {
  "kernelspec": {
   "display_name": "Python 3 (ipykernel)",
   "language": "python",
   "name": "python3"
  },
  "language_info": {
   "codemirror_mode": {
    "name": "ipython",
    "version": 3
   },
   "file_extension": ".py",
   "mimetype": "text/x-python",
   "name": "python",
   "nbconvert_exporter": "python",
   "pygments_lexer": "ipython3",
   "version": "3.10.12"
  }
 },
 "nbformat": 4,
 "nbformat_minor": 5
}
